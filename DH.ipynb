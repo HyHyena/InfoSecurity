{
 "cells": [
  {
   "cell_type": "markdown",
   "metadata": {},
   "source": [
    "pow(x, y, z)\n",
    " \n",
    " x : Число, которое требуется возвести в степень.\n",
    "\n",
    "y : Число, являющееся степенью, в которую нужно возвести первый аргумент. Если число отрицательное, аргумент z не принимается.\n",
    " \n",
    " z : Число, на которое требуется произвести деление по модулю. Если число указано, ожидается, что x и y положительны и имеют тип int.\n",
    " \n",
    " pow(2, 3, 10)  # 8"
   ]
  },
  {
   "cell_type": "code",
   "execution_count": 13,
   "metadata": {},
   "outputs": [],
   "source": [
    "import random\n",
    "common_p = 101\n",
    "common_g = 83\n",
    "class Alice:\n",
    "    private_numb = 21398720\n",
    "    def calculate(self):\n",
    "        global common_p, common_g\n",
    "        A = pow(common_g, self.private_numb, common_p)\n",
    "        print(\"private number: \", self.private_numb)\n",
    "        print(\"A: \", A)\n",
    "        return A\n",
    "    \n",
    "    def do(self, B):\n",
    "        number = pow(B, self.private_numb) % common_p\n",
    "        return number"
   ]
  },
  {
   "cell_type": "code",
   "execution_count": 14,
   "metadata": {},
   "outputs": [],
   "source": [
    "class Bob:\n",
    "    private_numb = 12323229\n",
    "    def calculate(self):\n",
    "        global common_p, common_g\n",
    "        B = pow(common_g, self.private_numb, common_p)\n",
    "        print(\"private number: \", self.private_numb)\n",
    "        print(\"B: \", B)\n",
    "        return B\n",
    "    \n",
    "    def do(self, A):\n",
    "        number = pow(A, self.private_numb) % common_p\n",
    "        return number"
   ]
  },
  {
   "cell_type": "code",
   "execution_count": 15,
   "metadata": {},
   "outputs": [
    {
     "name": "stdout",
     "output_type": "stream",
     "text": [
      "private number:  21398720\n",
      "A:  84\n",
      "private number:  12323229\n",
      "B:  67\n",
      "95\n",
      "95\n"
     ]
    }
   ],
   "source": [
    "alice = Alice()\n",
    "bob = Bob()\n",
    "\n",
    "A = alice.calculate()\n",
    "B = bob.calculate()\n",
    "a_number = alice.do(B)\n",
    "b_number = bob.do(A)\n",
    "\n",
    "print(a_number)\n",
    "print(b_number)"
   ]
  },
  {
   "cell_type": "code",
   "execution_count": 18,
   "metadata": {},
   "outputs": [
    {
     "name": "stdout",
     "output_type": "stream",
     "text": [
      "0\n",
      "7.694841146469116\n",
      "0\n",
      "0.00011110305786132812\n"
     ]
    }
   ],
   "source": [
    "import time\n",
    "startTime = time.time()\n",
    "print(1234567 ** 1234567 % 1234567)\n",
    "print(time.time() - startTime)\n",
    "\n",
    "startTime = time.time()\n",
    "print(pow(1234567, 1234567, 1234567))\n",
    "print(time.time() - startTime)"
   ]
  },
  {
   "cell_type": "code",
   "execution_count": null,
   "metadata": {},
   "outputs": [],
   "source": []
  }
 ],
 "metadata": {
  "kernelspec": {
   "display_name": "Python 3",
   "language": "python",
   "name": "python3"
  },
  "language_info": {
   "codemirror_mode": {
    "name": "ipython",
    "version": 3
   },
   "file_extension": ".py",
   "mimetype": "text/x-python",
   "name": "python",
   "nbconvert_exporter": "python",
   "pygments_lexer": "ipython3",
   "version": "3.7.3"
  }
 },
 "nbformat": 4,
 "nbformat_minor": 2
}
