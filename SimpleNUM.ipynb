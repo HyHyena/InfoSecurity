{
 "cells": [
  {
   "cell_type": "code",
   "execution_count": 62,
   "metadata": {},
   "outputs": [],
   "source": [
    "import random as rd\n",
    "from math import sqrt\n",
    "from itertools import count, islice"
   ]
  },
  {
   "cell_type": "code",
   "execution_count": 63,
   "metadata": {},
   "outputs": [],
   "source": [
    "def simpleNum(n):\n",
    "    num = []\n",
    "    sim = simple()\n",
    "    flag = True\n",
    "    while flag:\n",
    "        flag = False\n",
    "        num = []\n",
    "        for i in range(n):\n",
    "            num.append(rd.randint(0, 1))\n",
    "        num[0] = 1\n",
    "        num[-1] = 1\n",
    "        number = 0\n",
    "        for i in range(len(num)):\n",
    "            number += num[i] * 2 ** (len(num) - 1 - i)\n",
    "#        print(number)\n",
    "        for i in sim:\n",
    "            if number % i == 0 and number != i:\n",
    "                flag = True\n",
    "#                print('NO in simple')\n",
    "                break\n",
    "        if flag:\n",
    "            continue\n",
    "        for i in range(5):\n",
    "            if test(number) == -1:\n",
    "                flag = True\n",
    "#                print('NO in test')\n",
    "                break\n",
    "    return number"
   ]
  },
  {
   "cell_type": "code",
   "execution_count": 64,
   "metadata": {},
   "outputs": [],
   "source": [
    "def test(p):\n",
    "    temp = p - 1\n",
    "    b = 0\n",
    "    while temp % 2 == 0:\n",
    "        temp /= 2\n",
    "        b += 1\n",
    "    m = (p - 1) / (2 ** b)\n",
    "    a = rd.randint(0, p - 1)\n",
    "    j = 0\n",
    "#    print(\": \", a, \" : \", m)\n",
    "    z = pow(int(a), int(m), int(p))\n",
    "    if z == 1 or z == p - 1:\n",
    "        return 1\n",
    "    while (True):\n",
    "        if j > 0 and z == 1:\n",
    "            return -1\n",
    "        j += 1\n",
    "        if j < b and z < p - 1:\n",
    "            z = pow(z, 2, p)\n",
    "            continue\n",
    "        elif z == p - 1:\n",
    "            return 1\n",
    "        if j == b and z != p - 1:\n",
    "            return -1"
   ]
  },
  {
   "cell_type": "code",
   "execution_count": 65,
   "metadata": {},
   "outputs": [],
   "source": [
    "def simple():\n",
    "    n = 2000\n",
    "    lst = [2]\n",
    "    for i in range(3, n + 1, 2):\n",
    "        if (i > 10) and (i % 10 == 5):\n",
    "            continue\n",
    "        for j in lst:\n",
    "            if j * j - 1 > i:\n",
    "                lst.append(i)\n",
    "                break\n",
    "            if i % j == 0:\n",
    "                break\n",
    "        else:\n",
    "            lst.append(i)\n",
    "    return lst"
   ]
  },
  {
   "cell_type": "code",
   "execution_count": 75,
   "metadata": {},
   "outputs": [],
   "source": [
    "def is_prime(n):\n",
    "    if n == 2:\n",
    "        return True\n",
    "    if n % 2 == 0 or n <= 1:\n",
    "        return False\n",
    "\n",
    "    sqr = int(sqrt(n)) + 1\n",
    "\n",
    "    for divisor in range(3, sqr, 2):\n",
    "        if n % divisor == 0:\n",
    "            return False\n",
    "    return True"
   ]
  },
  {
   "cell_type": "code",
   "execution_count": 76,
   "metadata": {},
   "outputs": [
    {
     "name": "stdout",
     "output_type": "stream",
     "text": [
      "807212687\n"
     ]
    }
   ],
   "source": [
    "print(simpleNum(30))"
   ]
  },
  {
   "cell_type": "code",
   "execution_count": 83,
   "metadata": {},
   "outputs": [],
   "source": [
    "def safe_simple():\n",
    "    N = simpleNum(40)\n",
    "    while not is_prime((N-1)/2):\n",
    "        N = simpleNum(40)\n",
    "    return N"
   ]
  },
  {
   "cell_type": "code",
   "execution_count": 84,
   "metadata": {},
   "outputs": [
    {
     "name": "stdout",
     "output_type": "stream",
     "text": [
      "1077011022107\n"
     ]
    }
   ],
   "source": [
    "print(safe_simple())"
   ]
  },
  {
   "cell_type": "code",
   "execution_count": null,
   "metadata": {},
   "outputs": [],
   "source": []
  }
 ],
 "metadata": {
  "kernelspec": {
   "display_name": "Python 3",
   "language": "python",
   "name": "python3"
  },
  "language_info": {
   "codemirror_mode": {
    "name": "ipython",
    "version": 3
   },
   "file_extension": ".py",
   "mimetype": "text/x-python",
   "name": "python",
   "nbconvert_exporter": "python",
   "pygments_lexer": "ipython3",
   "version": "3.7.3"
  }
 },
 "nbformat": 4,
 "nbformat_minor": 2
}
