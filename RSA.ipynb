{
 "cells": [
  {
   "cell_type": "code",
   "execution_count": 84,
   "metadata": {},
   "outputs": [],
   "source": [
    "import random\n",
    "common_p = 957007526787473921\n",
    "common_q = 1080601106012073601\n",
    "common_e = 65537\n",
    "class Alice:\n",
    "    \n",
    "    private_key = (0, 0)\n",
    "    \n",
    "    def bezout(a, b):\n",
    "        x, xx, y, yy = 1, 0, 0, 1\n",
    "        while b:\n",
    "            q = a // b\n",
    "            a, b = b, a % b\n",
    "            x, xx = xx, x - xx*q\n",
    "            y, yy = yy, y - yy*q\n",
    "        return (x, y, a)\n",
    "   \n",
    "    def calculate(self):\n",
    "        global common_p, common_g, common_e\n",
    "        n = common_p * common_q\n",
    "        fi = (common_p - 1) * (common_q - 1)\n",
    "        d = bezout(common_e, fi)[0]\n",
    "        if (d < 0):\n",
    "            d += fi\n",
    "        public_key =  (common_e, n)\n",
    "        self.private_key = (d, n)\n",
    "        print(\"Alice's public_key = \", public_key)\n",
    "        print(\"Alice's private_key = \", self.private_key)\n",
    "        return public_key\n",
    "    \n",
    "    def encrypt(self, message, public_key):\n",
    "        number = pow(message, public_key[0], public_key[1])\n",
    "        return number\n",
    "    \n",
    "    def decrypt(self, encryption):\n",
    "#        dec = encryption ** self.private_key[0] % self.private_key[1]\n",
    "        dec = pow(encryption, self.private_key[0], self.private_key[1])\n",
    "        return dec"
   ]
  },
  {
   "cell_type": "code",
   "execution_count": 85,
   "metadata": {},
   "outputs": [
    {
     "name": "stdout",
     "output_type": "stream",
     "text": [
      "Alice's public_key =  (65537, 1034143391908423473011185397920059521)\n",
      "Alice's private_key =  (901768871946878626107358667212521473, 1034143391908423473011185397920059521)\n",
      "999923912839289325786376023864323131\n"
     ]
    }
   ],
   "source": [
    "alice = Alice()\n",
    "m = 999923912839289325786376023864323131\n",
    "A = alice.calculate()\n",
    "enc = alice.encrypt(m, A)\n",
    "mess = alice.decrypt(enc)\n",
    "print(mess)"
   ]
  },
  {
   "cell_type": "code",
   "execution_count": null,
   "metadata": {},
   "outputs": [],
   "source": []
  },
  {
   "cell_type": "code",
   "execution_count": null,
   "metadata": {},
   "outputs": [],
   "source": []
  }
 ],
 "metadata": {
  "kernelspec": {
   "display_name": "Python 3",
   "language": "python",
   "name": "python3"
  },
  "language_info": {
   "codemirror_mode": {
    "name": "ipython",
    "version": 3
   },
   "file_extension": ".py",
   "mimetype": "text/x-python",
   "name": "python",
   "nbconvert_exporter": "python",
   "pygments_lexer": "ipython3",
   "version": "3.7.3"
  }
 },
 "nbformat": 4,
 "nbformat_minor": 2
}
