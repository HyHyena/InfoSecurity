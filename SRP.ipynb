{
 "cells": [
  {
   "cell_type": "code",
   "execution_count": 4,
   "metadata": {},
   "outputs": [],
   "source": [
    "import hashlib\n",
    "import random\n",
    "import simpleNum"
   ]
  },
  {
   "cell_type": "code",
   "execution_count": 6,
   "metadata": {},
   "outputs": [
    {
     "name": "stdout",
     "output_type": "stream",
     "text": [
      "#. H, N, g, and k are known beforehand to both client and server:\n",
      "H = <function H at 0x10be93158>\n",
      "N = 0x9fe176d723\n",
      "g = 0x2\n",
      "k = 0x3\n",
      "\n",
      "0. server stores (I, s, v) in its password database\n",
      "I = niclas784\n",
      "p = 1626060998Da\n",
      "s = 0x1696ef32e9\n",
      "x = 0xa8a44f51ab35626005dd6dda12c49c774cba0c2eea2e4cede3c27b10f344a3c7\n",
      "v = 0x1419a94d\n",
      "\n",
      "1. client sends username I and public ephemeral value A to the server\n",
      "I = niclas784\n",
      "A = 0x77c0cfaece\n",
      "\n",
      "2. server sends user's salt s and public ephemeral value B to client\n",
      "s = 0x1696ef32e9\n",
      "B = 0x97691eec\n",
      "\n",
      "3. client and server calculate the random scrambling parameter\n",
      "u = 0xaf6a61c5222b90cc2993f33cccc2c4ef0d97a598cc40d87051cd421f30f26ed7\n",
      "\n",
      "4. client computes session key\n",
      "S_c = 0x39fe7dc1e4\n",
      "K_c = 0x7c68519626332f4f437e5a5cd41ec6bf43470b93e916aa56f6658141e7bbd24a\n",
      "\n",
      "5. server computes session key\n",
      "S_s = 0x39fe7dc1e4\n",
      "K_s = 0x7c68519626332f4f437e5a5cd41ec6bf43470b93e916aa56f6658141e7bbd24a\n",
      "\n",
      "6. client sends proof of session key to server\n",
      "M_c = 0xc3fbcaf348be6100b7193af8a7eedc597dca5ba1c5c0e744be3b92c91f71df84\n",
      "\n",
      "7. server sends proof of session key to client\n",
      "M_s = 0xfaea7ed7af6937d76fa5aadb2ed8174fbeda505f0c370bf9c489aa41bb1aad1e\n",
      "\n"
     ]
    }
   ],
   "source": [
    "def global_print(*names):\n",
    "    x = lambda s: [\"{}\", \"0x{:x}\"] [hasattr(s, 'real')].format(s)\n",
    "    print(\"\".join(\"{} = {}\\n\".format(name, x(globals()[name])) for name in names))\n",
    "\n",
    "# note: str converts as is, str( [1,2,3,4] ) will convert to \"[1,2,3,4]\"\n",
    "def H(*args):  # a one-way hash function\n",
    "    a = ':'.join(str(a) for a in args)\n",
    "    return int(hashlib.sha256(a.encode('utf-8')).hexdigest(), 16)\n",
    "\n",
    "def cryptrand(n=1024):\n",
    "    return random.SystemRandom().getrandbits(n) % N\n",
    "\n",
    "# A large safe prime (N = 2q+1, where q is prime)\n",
    "# All arithmetic is done modulo N\n",
    "# (generated using \"openssl dhparam -text 1024\")\n",
    "N = simpleNum.safe_prime()\n",
    "g = 2\n",
    "k = H(N, g)  # Multiplier parameter (k=3 in legacy SRP-6)\n",
    "\n",
    "print(\"#. H, N, g, and k are known beforehand to both client and server:\")\n",
    "global_print(\"H\", \"N\", \"g\", \"k\")\n",
    "\n",
    "print(\"0. server stores (I, s, v) in its password database\")\n",
    "\n",
    "# the server must first generate the password verifier\n",
    "I = \"niclas784\"     # Username\n",
    "p = \"1626060998Da\"   # Password\n",
    "s = cryptrand(64)    # Salt for the user\n",
    "x = H(s, I, p)       # Private key\n",
    "v = pow(g, x, N)     # Password verifier\n",
    "global_print(\"I\", \"p\", \"s\", \"x\", \"v\")\n",
    "\n",
    "print(\"1. client sends username I and public ephemeral value A to the server\")\n",
    "a = cryptrand()\n",
    "A = pow(g, a, N)\n",
    "global_print(\"I\", \"A\")  # client->server (I, A)\n",
    "\n",
    "print(\"2. server sends user's salt s and public ephemeral value B to client\")\n",
    "b = cryptrand()\n",
    "B = (k * v + pow(g, b, N)) % N\n",
    "global_print(\"s\", \"B\")  # server->client (s, B)\n",
    "\n",
    "print(\"3. client and server calculate the random scrambling parameter\")\n",
    "u = H(A, B)  # Random scrambling parameter\n",
    "global_print(\"u\")\n",
    "\n",
    "print(\"4. client computes session key\")\n",
    "x = H(s, I, p)\n",
    "S_c = pow(B - k * pow(g, x, N), a + u * x, N)\n",
    "K_c = H(S_c)\n",
    "global_print(\"S_c\", \"K_c\")\n",
    "\n",
    "print(\"5. server computes session key\")\n",
    "S_s = pow(A * pow(v, u, N), b, N)\n",
    "K_s = H(S_s)\n",
    "global_print(\"S_s\", \"K_s\")\n",
    "\n",
    "print(\"6. client sends proof of session key to server\")\n",
    "M_c = H(H(N) ^ H(g), H(I), s, A, B, K_c)\n",
    "global_print(\"M_c\")\n",
    "\n",
    "print(\"7. server sends proof of session key to client\")\n",
    "M_s = H(A, M_c, K_s)\n",
    "global_print(\"M_s\")"
   ]
  },
  {
   "cell_type": "code",
   "execution_count": null,
   "metadata": {},
   "outputs": [],
   "source": []
  },
  {
   "cell_type": "code",
   "execution_count": null,
   "metadata": {},
   "outputs": [],
   "source": [
    "    "
   ]
  },
  {
   "cell_type": "code",
   "execution_count": null,
   "metadata": {},
   "outputs": [],
   "source": []
  }
 ],
 "metadata": {
  "kernelspec": {
   "display_name": "Python 3",
   "language": "python",
   "name": "python3"
  },
  "language_info": {
   "codemirror_mode": {
    "name": "ipython",
    "version": 3
   },
   "file_extension": ".py",
   "mimetype": "text/x-python",
   "name": "python",
   "nbconvert_exporter": "python",
   "pygments_lexer": "ipython3",
   "version": "3.7.3"
  }
 },
 "nbformat": 4,
 "nbformat_minor": 2
}
