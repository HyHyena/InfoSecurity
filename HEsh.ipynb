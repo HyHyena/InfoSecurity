{
 "cells": [
  {
   "cell_type": "code",
   "execution_count": 26,
   "metadata": {},
   "outputs": [],
   "source": [
    "seed = 12323313\n",
    "haseh = 1"
   ]
  },
  {
   "cell_type": "code",
   "execution_count": 27,
   "metadata": {},
   "outputs": [],
   "source": [
    "def n(number):\n",
    "    num = []\n",
    "    for i in range(len(str(number))):\n",
    "        num.append(number % 10)\n",
    "        number = int(number / 10)\n",
    "    return num"
   ]
  },
  {
   "cell_type": "code",
   "execution_count": 37,
   "metadata": {},
   "outputs": [],
   "source": [
    "def has(s, l):\n",
    "    global seed, haseh\n",
    "    for i in range(l):\n",
    "        haseh = pow(seed, s, i+1) + (haseh * seed) + s\n",
    "        \n",
    "    return abs(haseh)\n",
    "haseh = 0"
   ]
  },
  {
   "cell_type": "code",
   "execution_count": null,
   "metadata": {},
   "outputs": [],
   "source": [
    "num = 16\n",
    "res = []\n",
    "for i in range(100000000):\n",
    "    haseh=1\n",
    "    res.append(has(i, len(str(num))))\n",
    "print(len(res))\n",
    "print(len(set(res)))"
   ]
  },
  {
   "cell_type": "code",
   "execution_count": null,
   "metadata": {},
   "outputs": [],
   "source": []
  }
 ],
 "metadata": {
  "kernelspec": {
   "display_name": "Python 3",
   "language": "python",
   "name": "python3"
  },
  "language_info": {
   "codemirror_mode": {
    "name": "ipython",
    "version": 3
   },
   "file_extension": ".py",
   "mimetype": "text/x-python",
   "name": "python",
   "nbconvert_exporter": "python",
   "pygments_lexer": "ipython3",
   "version": "3.7.3"
  }
 },
 "nbformat": 4,
 "nbformat_minor": 2
}
